{
 "cells": [
  {
   "cell_type": "code",
   "execution_count": 14,
   "metadata": {},
   "outputs": [],
   "source": [
    "import pandas as pd\n",
    "from pandas import DataFrame\n",
    "from typing import Set, Any\n",
    "\n",
    "\n",
    "def remove_others(df: DataFrame, columns: Set[Any]):\n",
    "    cols_total: Set[Any] = set(df.columns)\n",
    "    diff: Set[Any] = cols_total - columns\n",
    "    df.drop(diff, axis=1, inplace=True)\n",
    "\n",
    "# Opening the csv files as dataframes\n",
    "\n",
    "df_Gini = pd.read_csv('Gini coefficient.csv')\n",
    "\n",
    "df_income = pd.read_csv('Median income.csv')\n",
    "\n",
    "\n",
    "# Reassigning year values as they were not all usable e.g. 2018/2019\n",
    "df_income[\"Year\"] = df_income[\"Year\"].str[:4]\n",
    "\n",
    "df_Gini[\"Year\"] = df_Gini[\"Year\"].str[:4]\n",
    "\n"
   ]
  },
  {
   "cell_type": "code",
   "execution_count": 9,
   "metadata": {},
   "outputs": [],
   "source": [
    "from functools import reduce\n",
    "# Merging the two dataframes\n",
    "\n",
    "dfs = [df_Gini, df_income]\n",
    "merged_df = reduce(lambda left, right: pd.merge(\n",
    "    left, right, on=['Year'], how='inner'), dfs)\n"
   ]
  },
  {
   "cell_type": "code",
   "execution_count": 10,
   "metadata": {},
   "outputs": [],
   "source": [
    "# Renaming a column\n",
    "merged_df = merged_df.rename(columns={'Disposable': 'After tax and redistribution'})"
   ]
  },
  {
   "cell_type": "code",
   "execution_count": 11,
   "metadata": {},
   "outputs": [],
   "source": [
    "# Exporting the merged dataframe as a csv file\n",
    "\n",
    "merged_df.to_csv('Gini & Income.csv', index = False)\n"
   ]
  },
  {
   "cell_type": "code",
   "execution_count": null,
   "metadata": {},
   "outputs": [],
   "source": []
  }
 ],
 "metadata": {
  "kernelspec": {
   "display_name": "Python 3.9.7 ('base')",
   "language": "python",
   "name": "python3"
  },
  "language_info": {
   "codemirror_mode": {
    "name": "ipython",
    "version": 3
   },
   "file_extension": ".py",
   "mimetype": "text/x-python",
   "name": "python",
   "nbconvert_exporter": "python",
   "pygments_lexer": "ipython3",
   "version": "3.9.7"
  },
  "orig_nbformat": 4,
  "vscode": {
   "interpreter": {
    "hash": "fe70d2af8a9c725aef38bf2952869e08b34ec86f04052dd8f2196c42c9d809bb"
   }
  }
 },
 "nbformat": 4,
 "nbformat_minor": 2
}
