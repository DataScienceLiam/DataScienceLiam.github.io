{
 "cells": [
  {
   "cell_type": "code",
   "execution_count": 4,
   "metadata": {},
   "outputs": [
    {
     "ename": "SyntaxError",
     "evalue": "invalid syntax. Perhaps you forgot a comma? (2189343964.py, line 1)",
     "output_type": "error",
     "traceback": [
      "\u001b[0;36m  Cell \u001b[0;32mIn [4], line 1\u001b[0;36m\u001b[0m\n\u001b[0;31m    pips install requests\u001b[0m\n\u001b[0m         ^\u001b[0m\n\u001b[0;31mSyntaxError\u001b[0m\u001b[0;31m:\u001b[0m invalid syntax. Perhaps you forgot a comma?\n"
     ]
    }
   ],
   "source": [
    "\n",
    "import requests\n",
    "import json\n",
    "\n",
    "# Setting the url to scrape from.\n",
    "# Changing the only part of the url by the relevant ONS code\n",
    "url_base = \"https://api.ons.gov.uk/timeseries/{}/dataset/LMS/data\"\n",
    "file_base = \"ONS_data_{}.json\"\n",
    "ONS_series = [\"LF2Q\", \"A3WW\", \"YBUY\", \"LWZV\",\n",
    "              \"YCDG\", \"AIWH\", \"YCNC\", \"YCNJ\", \"YCNK\"]\n",
    "\n",
    "\n",
    "# Looping through all of the 9 in the series, downloading all 9 files.\n",
    "for i in ONS_series:\n",
    "   URL = url_base.format(i)\n",
    "   data = requests.get(URL).json()\n",
    "   fileName = file_base.format(i)\n",
    "   with open(fileName, 'w', encoding='utf-8') as f:\n",
    "     json.dump(data, f, ensure_ascii=False, indent=4)\n",
    "   files.download(fileName)\n",
    "\n",
    "   #Adapted from the FRED downloader we saw in class.\n"
   ]
  },
  {
   "cell_type": "code",
   "execution_count": null,
   "metadata": {},
   "outputs": [],
   "source": []
  }
 ],
 "metadata": {
  "kernelspec": {
   "display_name": "Python 3.9.7 ('base')",
   "language": "python",
   "name": "python3"
  },
  "language_info": {
   "codemirror_mode": {
    "name": "ipython",
    "version": 3
   },
   "file_extension": ".py",
   "mimetype": "text/x-python",
   "name": "python",
   "nbconvert_exporter": "python",
   "pygments_lexer": "ipython3",
   "version": "3.9.7"
  },
  "orig_nbformat": 4,
  "vscode": {
   "interpreter": {
    "hash": "fe70d2af8a9c725aef38bf2952869e08b34ec86f04052dd8f2196c42c9d809bb"
   }
  }
 },
 "nbformat": 4,
 "nbformat_minor": 2
}
