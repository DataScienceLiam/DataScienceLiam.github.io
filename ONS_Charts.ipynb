{
 "cells": [
  {
   "cell_type": "code",
   "execution_count": 4,
   "metadata": {},
   "outputs": [
    {
     "ename": "SyntaxError",
     "evalue": "invalid syntax. Perhaps you forgot a comma? (2189343964.py, line 1)",
     "output_type": "error",
     "traceback": [
      "\u001b[0;36m  Cell \u001b[0;32mIn [4], line 1\u001b[0;36m\u001b[0m\n\u001b[0;31m    pips install requests\u001b[0m\n\u001b[0m         ^\u001b[0m\n\u001b[0;31mSyntaxError\u001b[0m\u001b[0;31m:\u001b[0m invalid syntax. Perhaps you forgot a comma?\n"
     ]
    }
   ],
   "source": [
    "\n",
    "import requests\n",
    "import json\n",
    "\n",
    "\n",
    "url_base = \"https://api.ons.gov.uk/timeseries/{}/dataset/LMS/data\"\n",
    "file_base = \"ONS_data_{}.json\"\n",
    "ONS_series = [\"LF2Q\", \"A3WW\", \"YBUY\", \"LWZV\",\n",
    "              \"YCDG\", \"AIWH\", \"YCNC\", \"YCNJ\", \"YCNK\"]\n",
    "\n",
    "\n",
    "for i in ONS_series:\n",
    "   URL = url_base.format(i)\n",
    "   data = requests.get(URL).json()\n",
    "   fileName = file_base.format(i)\n",
    "   with open(fileName, 'w', encoding='utf-8') as f:\n",
    "     json.dump(data, f, ensure_ascii=False, indent=4)\n",
    "   files.download(fileName)\n"
   ]
  },
  {
   "cell_type": "code",
   "execution_count": null,
   "metadata": {},
   "outputs": [],
   "source": []
  }
 ],
 "metadata": {
  "kernelspec": {
   "display_name": "Python 3.10.0 64-bit",
   "language": "python",
   "name": "python3"
  },
  "language_info": {
   "codemirror_mode": {
    "name": "ipython",
    "version": 3
   },
   "file_extension": ".py",
   "mimetype": "text/x-python",
   "name": "python",
   "nbconvert_exporter": "python",
   "pygments_lexer": "ipython3",
   "version": "3.10.0"
  },
  "orig_nbformat": 4,
  "vscode": {
   "interpreter": {
    "hash": "aee8b7b246df8f9039afb4144a1f6fd8d2ca17a180786b69acc140d282b71a49"
   }
  }
 },
 "nbformat": 4,
 "nbformat_minor": 2
}
