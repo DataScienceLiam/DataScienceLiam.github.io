{
  "nbformat": 4,
  "nbformat_minor": 0,
  "metadata": {
    "colab": {
      "provenance": [],
      "authorship_tag": "ABX9TyNUrsG8OwIx+z/pP1xqpyqq",
      "include_colab_link": true
    },
    "kernelspec": {
      "name": "python3",
      "display_name": "Python 3"
    },
    "language_info": {
      "name": "python"
    }
  },
  "cells": [
    {
      "cell_type": "markdown",
      "metadata": {
        "id": "view-in-github",
        "colab_type": "text"
      },
      "source": [
        "<a href=\"https://colab.research.google.com/github/DataScienceLiam/DataScienceLiam.github.io/blob/main/colab/Gini_coefficient_%26_Income.ipynb\" target=\"_parent\"><img src=\"https://colab.research.google.com/assets/colab-badge.svg\" alt=\"Open In Colab\"/></a>"
      ]
    },
    {
      "cell_type": "code",
      "execution_count": null,
      "metadata": {
        "id": "xcrfL82D-u_U"
      },
      "outputs": [],
      "source": [
        "import pandas as pd\n",
        "from pandas import DataFrame\n",
        "from typing import Set, Any\n",
        "\n",
        "\n",
        "def remove_others(df: DataFrame, columns: Set[Any]):\n",
        "    cols_total: Set[Any] = set(df.columns)\n",
        "    diff: Set[Any] = cols_total - columns\n",
        "    df.drop(diff, axis=1, inplace=True)\n",
        "\n",
        "# Opening the csv files as dataframes\n",
        "# https://www.ons.gov.uk/peoplepopulationandcommunity/personalandhouseholdfinances/incomeandwealth/datasets/householddisposableincomeandinequality\n",
        "# I saved two pages of the xls file as two csv files:\n",
        "\n",
        "df_Gini = pd.read_csv('Gini coefficient.csv')\n",
        "\n",
        "df_income = pd.read_csv('Median income.csv')\n",
        "\n",
        "\n",
        "\n",
        "# Reassigning year values as they were not all usable e.g. 2018/2019\n",
        "df_income[\"Year\"] = df_income[\"Year\"].str[:4]\n",
        "\n",
        "df_Gini[\"Year\"] = df_Gini[\"Year\"].str[:4]\n"
      ]
    },
    {
      "cell_type": "code",
      "source": [
        "from functools import reduce\n",
        "# Merging the two dataframes\n",
        "\n",
        "dfs = [df_Gini, df_income]\n",
        "merged_df = reduce(lambda left, right: pd.merge(\n",
        "    left, right, on=['Year'], how='inner'), dfs)\n"
      ],
      "metadata": {
        "id": "K1lxI-5e_aaZ"
      },
      "execution_count": null,
      "outputs": []
    },
    {
      "cell_type": "code",
      "source": [
        "# Renaming a column\n",
        "\n",
        "merged_df = merged_df.rename(columns={'Disposable': 'After tax and redistribution'})\n",
        "\n",
        "merged_df.head(5)"
      ],
      "metadata": {
        "colab": {
          "base_uri": "https://localhost:8080/",
          "height": 206
        },
        "id": "GpkTxNFh_hW3",
        "outputId": "cdac3219-3d1e-47dd-f43c-3955cc59b217"
      },
      "execution_count": null,
      "outputs": [
        {
          "output_type": "execute_result",
          "data": {
            "text/plain": [
              "   Year  Original income  Final income  All individuals  Retired  Non-retired\n",
              "0  1977             36.8          22.0            13584     8629        14322\n",
              "1  1978             37.1          21.1            15024     9237        15761\n",
              "2  1979             37.2          21.5            15618     9188        16636\n",
              "3  1980             38.3          22.7            16122     9506        17106\n",
              "4  1981             40.3          23.0            15293     9877        16245"
            ],
            "text/html": [
              "\n",
              "  <div id=\"df-e3b29f83-0d01-4db5-b7b6-01dbc98c7ded\">\n",
              "    <div class=\"colab-df-container\">\n",
              "      <div>\n",
              "<style scoped>\n",
              "    .dataframe tbody tr th:only-of-type {\n",
              "        vertical-align: middle;\n",
              "    }\n",
              "\n",
              "    .dataframe tbody tr th {\n",
              "        vertical-align: top;\n",
              "    }\n",
              "\n",
              "    .dataframe thead th {\n",
              "        text-align: right;\n",
              "    }\n",
              "</style>\n",
              "<table border=\"1\" class=\"dataframe\">\n",
              "  <thead>\n",
              "    <tr style=\"text-align: right;\">\n",
              "      <th></th>\n",
              "      <th>Year</th>\n",
              "      <th>Original income</th>\n",
              "      <th>Final income</th>\n",
              "      <th>All individuals</th>\n",
              "      <th>Retired</th>\n",
              "      <th>Non-retired</th>\n",
              "    </tr>\n",
              "  </thead>\n",
              "  <tbody>\n",
              "    <tr>\n",
              "      <th>0</th>\n",
              "      <td>1977</td>\n",
              "      <td>36.8</td>\n",
              "      <td>22.0</td>\n",
              "      <td>13584</td>\n",
              "      <td>8629</td>\n",
              "      <td>14322</td>\n",
              "    </tr>\n",
              "    <tr>\n",
              "      <th>1</th>\n",
              "      <td>1978</td>\n",
              "      <td>37.1</td>\n",
              "      <td>21.1</td>\n",
              "      <td>15024</td>\n",
              "      <td>9237</td>\n",
              "      <td>15761</td>\n",
              "    </tr>\n",
              "    <tr>\n",
              "      <th>2</th>\n",
              "      <td>1979</td>\n",
              "      <td>37.2</td>\n",
              "      <td>21.5</td>\n",
              "      <td>15618</td>\n",
              "      <td>9188</td>\n",
              "      <td>16636</td>\n",
              "    </tr>\n",
              "    <tr>\n",
              "      <th>3</th>\n",
              "      <td>1980</td>\n",
              "      <td>38.3</td>\n",
              "      <td>22.7</td>\n",
              "      <td>16122</td>\n",
              "      <td>9506</td>\n",
              "      <td>17106</td>\n",
              "    </tr>\n",
              "    <tr>\n",
              "      <th>4</th>\n",
              "      <td>1981</td>\n",
              "      <td>40.3</td>\n",
              "      <td>23.0</td>\n",
              "      <td>15293</td>\n",
              "      <td>9877</td>\n",
              "      <td>16245</td>\n",
              "    </tr>\n",
              "  </tbody>\n",
              "</table>\n",
              "</div>\n",
              "      <button class=\"colab-df-convert\" onclick=\"convertToInteractive('df-e3b29f83-0d01-4db5-b7b6-01dbc98c7ded')\"\n",
              "              title=\"Convert this dataframe to an interactive table.\"\n",
              "              style=\"display:none;\">\n",
              "        \n",
              "  <svg xmlns=\"http://www.w3.org/2000/svg\" height=\"24px\"viewBox=\"0 0 24 24\"\n",
              "       width=\"24px\">\n",
              "    <path d=\"M0 0h24v24H0V0z\" fill=\"none\"/>\n",
              "    <path d=\"M18.56 5.44l.94 2.06.94-2.06 2.06-.94-2.06-.94-.94-2.06-.94 2.06-2.06.94zm-11 1L8.5 8.5l.94-2.06 2.06-.94-2.06-.94L8.5 2.5l-.94 2.06-2.06.94zm10 10l.94 2.06.94-2.06 2.06-.94-2.06-.94-.94-2.06-.94 2.06-2.06.94z\"/><path d=\"M17.41 7.96l-1.37-1.37c-.4-.4-.92-.59-1.43-.59-.52 0-1.04.2-1.43.59L10.3 9.45l-7.72 7.72c-.78.78-.78 2.05 0 2.83L4 21.41c.39.39.9.59 1.41.59.51 0 1.02-.2 1.41-.59l7.78-7.78 2.81-2.81c.8-.78.8-2.07 0-2.86zM5.41 20L4 18.59l7.72-7.72 1.47 1.35L5.41 20z\"/>\n",
              "  </svg>\n",
              "      </button>\n",
              "      \n",
              "  <style>\n",
              "    .colab-df-container {\n",
              "      display:flex;\n",
              "      flex-wrap:wrap;\n",
              "      gap: 12px;\n",
              "    }\n",
              "\n",
              "    .colab-df-convert {\n",
              "      background-color: #E8F0FE;\n",
              "      border: none;\n",
              "      border-radius: 50%;\n",
              "      cursor: pointer;\n",
              "      display: none;\n",
              "      fill: #1967D2;\n",
              "      height: 32px;\n",
              "      padding: 0 0 0 0;\n",
              "      width: 32px;\n",
              "    }\n",
              "\n",
              "    .colab-df-convert:hover {\n",
              "      background-color: #E2EBFA;\n",
              "      box-shadow: 0px 1px 2px rgba(60, 64, 67, 0.3), 0px 1px 3px 1px rgba(60, 64, 67, 0.15);\n",
              "      fill: #174EA6;\n",
              "    }\n",
              "\n",
              "    [theme=dark] .colab-df-convert {\n",
              "      background-color: #3B4455;\n",
              "      fill: #D2E3FC;\n",
              "    }\n",
              "\n",
              "    [theme=dark] .colab-df-convert:hover {\n",
              "      background-color: #434B5C;\n",
              "      box-shadow: 0px 1px 3px 1px rgba(0, 0, 0, 0.15);\n",
              "      filter: drop-shadow(0px 1px 2px rgba(0, 0, 0, 0.3));\n",
              "      fill: #FFFFFF;\n",
              "    }\n",
              "  </style>\n",
              "\n",
              "      <script>\n",
              "        const buttonEl =\n",
              "          document.querySelector('#df-e3b29f83-0d01-4db5-b7b6-01dbc98c7ded button.colab-df-convert');\n",
              "        buttonEl.style.display =\n",
              "          google.colab.kernel.accessAllowed ? 'block' : 'none';\n",
              "\n",
              "        async function convertToInteractive(key) {\n",
              "          const element = document.querySelector('#df-e3b29f83-0d01-4db5-b7b6-01dbc98c7ded');\n",
              "          const dataTable =\n",
              "            await google.colab.kernel.invokeFunction('convertToInteractive',\n",
              "                                                     [key], {});\n",
              "          if (!dataTable) return;\n",
              "\n",
              "          const docLinkHtml = 'Like what you see? Visit the ' +\n",
              "            '<a target=\"_blank\" href=https://colab.research.google.com/notebooks/data_table.ipynb>data table notebook</a>'\n",
              "            + ' to learn more about interactive tables.';\n",
              "          element.innerHTML = '';\n",
              "          dataTable['output_type'] = 'display_data';\n",
              "          await google.colab.output.renderOutput(dataTable, element);\n",
              "          const docLink = document.createElement('div');\n",
              "          docLink.innerHTML = docLinkHtml;\n",
              "          element.appendChild(docLink);\n",
              "        }\n",
              "      </script>\n",
              "    </div>\n",
              "  </div>\n",
              "  "
            ]
          },
          "metadata": {},
          "execution_count": 4
        }
      ]
    },
    {
      "cell_type": "code",
      "source": [
        "# Exporting the merged dataframe as a csv file\n",
        "\n",
        "merged_df.to_csv('Gini & Income.csv', index = False)"
      ],
      "metadata": {
        "id": "jn_TtrOh_jUC"
      },
      "execution_count": null,
      "outputs": []
    },
    {
      "cell_type": "code",
      "source": [],
      "metadata": {
        "id": "YiQpfhuk_keQ"
      },
      "execution_count": null,
      "outputs": []
    }
  ]
}